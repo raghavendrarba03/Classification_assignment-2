{
 "cells": [
  {
   "cell_type": "code",
   "execution_count": 4,
   "metadata": {},
   "outputs": [],
   "source": [
    "#Data Access\n",
    "file = open(\"C:\\\\Users\\\\Raghavendra Reddy\\\\Desktop\\\\Text analytics\\\\Assignment 2\\\\SMS Dataset\\\\SMS-Messages2.csv\", encoding=\"utf8\")"
   ]
  },
  {
   "cell_type": "code",
   "execution_count": 5,
   "metadata": {},
   "outputs": [
    {
     "name": "stdout",
     "output_type": "stream",
     "text": [
      "200\n"
     ]
    }
   ],
   "source": [
    "data_dump = file.readlines()[1:201]\n",
    "no_records = len(data_dump)\n",
    "print(no_records)"
   ]
  },
  {
   "cell_type": "code",
   "execution_count": 28,
   "metadata": {},
   "outputs": [
    {
     "name": "stdout",
     "output_type": "stream",
     "text": [
      "[(\"'Go until jurong point\", 'ham'), (\"'Ok lar... Joking wif u oni...'\", 'ham'), (\"'Free entry in 2 a wkly comp to win FA Cup final tkts 21st May 2005. Text FA to 87121 to receive entry question(std txt rate)T&C\\\\'s apply 08452810075over18\\\\'s'\", 'spam'), (\"'U dun say so early hor... U c already then say...'\", 'ham'), (\"'Nah I don\\\\'t think he goes to usf\", 'ham'), (\"'FreeMsg Hey there darling it\\\\'s been 3 week\\\\'s now and no word back! I\\\\'d like some fun you up for it still? Tb ok! XxX std chgs to send\", 'spam'), (\"'Even my brother is not like to speak with me. They treat me like aids patent.'\", 'ham'), (\"'As per your request \\\\'Melle Melle (Oru Minnaminunginte Nurungu Vettam)\\\\' has been set as your callertune for all Callers. Press *9 to copy your friends Callertune'\", 'ham'), (\"'WINNER!! As a valued network customer you have been selected to receivea £900 prize reward! To claim call 09061701461. Claim code KL341. Valid 12 hours only.'\", 'spam'), (\"'Had your mobile 11 months or more? U R entitled to Update to the latest colour mobiles with camera for Free! Call The Mobile Update Co FREE on 08002986030'\", 'spam'), (\"'I\\\\'m gonna be home soon and i don\\\\'t want to talk about this stuff anymore tonight\", 'ham'), (\"'SIX chances to win CASH! From 100 to 20\", 'spam'), (\"'URGENT! You have won a 1 week FREE membership in our £100\", 'spam'), (\"'I\\\\'ve been searching for the right words to thank you for this breather. I promise i wont take your help for granted and will fulfil my promise. You have been wonderful and a blessing at all times.'\", 'ham'), (\"'I HAVE A DATE ON SUNDAY WITH WILL!!'\", 'ham'), (\"'XXXMobileMovieClub: To use your credit\", 'spam'), (\"'Oh k...i\\\\'m watching here:)'\", 'ham'), (\"'Eh u remember how 2 spell his name... Yes i did. He v naughty make until i v wet.'\", 'ham'), (\"'Fine if that\\\\'s the way u feel. That\\\\'s the way its gota b'\", 'ham'), (\"'England v Macedonia - dont miss the goals/team news. Txt ur national team to 87077 eg ENGLAND to 87077 Try:WALES\", 'spam'), (\"'Is that seriously how you spell his name?'\", 'ham'), (\"'I\\\\'m going to try for 2 months ha ha only joking'\", 'ham'), (\"'So ü pay first lar... Then when is da stock comin...'\", 'ham'), (\"'Aft i finish my lunch then i go str down lor. Ard 3 smth lor. U finish ur lunch already?'\", 'ham'), (\"'Ffffffffff. Alright no way I can meet up with you sooner?'\", 'ham'), (\"'Just forced myself to eat a slice. I\\\\'m really not hungry tho. This sucks. Mark is getting worried. He knows I\\\\'m sick when I turn down pizza. Lol'\", 'ham'), (\"'Lol your always so convincing.'\", 'ham'), (\"'Did you catch the bus ? Are you frying an egg ? Did you make a tea? Are you eating your mom\\\\'s left over dinner ? Do you feel my Love ?'\", 'ham'), (\"'I\\\\'m back &amp; we\\\\'re packing the car now\", 'ham'), (\"'Ahhh. Work. I vaguely remember that! What does it feel like? Lol'\", 'ham'), (\"'Wait that\\\\'s still not all that clear\", 'ham'), (\"'Yeah he got in at 2 and was v apologetic. n had fallen out and she was actin like spoilt child and he got caught up in that. Till 2! But we won\\\\'t go there! Not doing too badly cheers. You? ‘\", 'ham'), (\"'K tell me anything about you.'\", 'ham'), (\"'For fear of fainting with the of all that housework you just did? Quick have a cuppa'\", 'ham'), (\"'Thanks for your subscription to Ringtone UK your mobile will be charged £5/month Please confirm by replying YES or NO. If you reply NO you will not be charged'\", 'spam'), (\"'Yup... Ok i go home look at the timings then i msg ü again... Xuhui going to learn on 2nd may too but her lesson is at 8am'\", 'ham'), (\"'Oops\", 'ham'), (\"'I see the letter B on my car'\", 'ham'), (\"'Anything lor... U decide...'\", 'ham'), (\"'Hello! How\\\\'s you and how did saturday go? I was just texting to see if you\\\\'d decided to do anything tomo. Not that i\\\\'m trying to invite myself or anything!'\", 'ham'), (\"'Pls go ahead with watts. I just wanted to be sure. Do have a great weekend. Abiola'\", 'ham'), (\"'Did I forget to tell you ? I want you \", 'ham'), (\"'07732584351 - Rodger Burns - MSG = We tried to call you re your reply to our sms for a free nokia mobile + free camcorder. Please call now 08000930705 for delivery tomorrow'\", 'spam'), (\"'WHO ARE YOU SEEING?'\", 'ham'), (\"'Great! I hope you like your man well endowed. I am  &lt;#&gt;  inches...'\", 'ham'), (\"'No calls..messages..missed calls'\", 'ham'), (\"'Didn\\\\'t you get hep b immunisation in nigeria.'\", 'ham'), (\"'Fair enough\", 'ham'), (\"'Yeah hopefully\", 'ham'), (\"'U don\\\\'t know how stubborn I am. I didn\\\\'t even want to go to the hospital. I kept telling Mark I\\\\'m not a weak sucker. Hospitals are for weak suckers.'\", 'ham'), (\"'What you thinked about me. First time you saw me in class.'\", 'ham'), (\"'A gram usually runs like  &lt;#&gt; \", 'ham'), (\"'K fyi x has a ride early tomorrow morning but he\\\\'s crashing at our place tonight'\", 'ham'), (\"'Wow. I never realized that you were so embarassed by your accomodations. I thought you liked it\", 'ham'), (\"'SMS. ac Sptv: The New Jersey Devils and the Detroit Red Wings play Ice Hockey. Correct or Incorrect? End? Reply END SPTV'\", 'spam'), (\"'Do you know what Mallika Sherawat did yesterday? Find out now @  &lt;URL&gt;'\", 'ham'), (\"'Congrats! 1 year special cinema pass for 2 is yours. call 09061209465 now! C Suprman V\", 'spam'), (\"'Sorry\", 'ham'), (\"'Tell where you reached'\", 'ham'), (\"'Yes..gauti and sehwag out of odi series.'\", 'ham'), (\"'Your gonna have to pick up a $1 burger for yourself on your way home. I can\\\\'t even move. Pain is killing me.'\", 'ham'), (\"'Ha ha ha good joke. Girls are situation seekers.'\", 'ham'), (\"'Its a part of checking IQ'\", 'ham'), (\"'Sorry my roommates took forever\", 'ham'), (\"'Ok lar i double check wif da hair dresser already he said wun cut v short. He said will cut until i look nice.'\", 'ham'), (\"'As a valued customer\", 'spam'), ('\"\\'Today is \"\"song dedicated day..\"\" Which song will u dedicate for me? Send this to all ur valuable frnds but first rply me...\\'\"', 'ham'), (\"'Urgent UR awarded a complimentary trip to EuroDisinc Trav\", 'spam'), ('\"\\'Did you hear about the new \"\"Divorce Barbie\"\"? It comes with all of Ken\\\\\\'s stuff!\\'\"', 'spam'), (\"'I plane to give on this month end.'\", 'ham'), (\"'Wah lucky man... Then can save money... Hee...'\", 'ham'), (\"'Finished class where are you.'\", 'ham'), (\"'HI BABE IM AT HOME NOW WANNA DO SOMETHING? XX'\", 'ham'), (\"'K..k:)where are you?how did you performed?'\", 'ham'), (\"'U can call me now...'\", 'ham'), (\"'I am waiting machan. Call me once you free.'\", 'ham'), (\"'Thats cool. i am a gentleman and will treat you with dignity and respect.'\", 'ham'), (\"'I like you peoples very much:) but am very shy pa.'\", 'ham'), (\"'Does not operate after  &lt;#&gt;  or what'\", 'ham'), (\"'Its not the same here. Still looking for a job. How much do Ta\\\\'s earn there.'\", 'ham'), (\"'Sorry\", 'ham'), (\"'K. Did you call me just now ah? ‘\", 'ham'), (\"'Ok i am on the way to home hi hi'\", 'ham'), (\"'You will be in the place of that man'\", 'ham'), (\"'Yup next stop.'\", 'ham'), (\"'I call you later\", 'ham'), (\"'For real when u getting on yo? I only need 2 more tickets and one more jacket and I\\\\'m done. I already used all my multis.'\", 'ham'), (\"'Yes I started to send requests to make it but pain came back so I\\\\'m back in bed. Double coins at the factory too. I gotta cash in all my nitros.'\", 'ham'), (\"'I\\\\'m really not up to it still tonight babe'\", 'ham'), (\"'Ela kano.\", 'ham'), (\"'Yeah do! Don\\\\'t stand to close tho- you\\\\'ll catch something!'\", 'ham'), (\"'Sorry to be a pain. Is it ok if we meet another night? I spent late afternoon in casualty and that means i haven\\\\'t done any of y stuff42moro and that includes all my time sheets and that. Sorry. ‘\", 'ham'), (\"'Smile in Pleasure Smile in Pain Smile when trouble pours like Rain Smile when sum1 Hurts U Smile becoz SOMEONE still Loves to see u Smiling!!'\", 'ham'), (\"'Please call our customer service representative on 0800 169 6031 between 10am-9pm as you have WON a guaranteed £1000 cash or £5000 prize!'\", 'spam'), (\"'Havent planning to buy later. I check already lido only got 530 show in e afternoon. U finish work already?'\", 'ham'), ('\"\\'Your free ringtone is waiting to be collected. Simply text the password \"\"MIX\"\" to 85069 to verify. Get Usher and Britney. FML\"', 'spam'), (\"'Watching telugu movie..wat abt u?'\", 'ham'), (\"'i see. When we finish we have loads of loans to pay'\", 'ham'), ('\"\\'Hi. Wk been ok - on hols now! Yes on for a bit of a run. Forgot that i have hairdressers appointment at four so need to get home n shower beforehand. Does that cause prob for u?\"\"‘\"', 'ham'), (\"'I see a cup of coffee animation'\", 'ham'), (\"'Please don\\\\'t text me anymore. I have nothing else to say.'\", 'ham'), (\"'Okay name ur price as long as its legal! Wen can I pick them up? Y u ave x ams xx'\", 'ham'), (\"'I\\\\'m still looking for a car to buy. And have not gone 4the driving test yet.'\", 'ham'), (\"'As per your request \\\\'Melle Melle (Oru Minnaminunginte Nurungu Vettam)\\\\' has been set as your callertune for all Callers. Press *9 to copy your friends Callertune'\", 'ham'), (\"'wow. You\\\\'re right! I didn\\\\'t mean to do that. I guess once i gave up on boston men and changed my search location to nyc\", 'ham'), (\"'Umma my life and vava umma love you lot dear'\", 'ham'), (\"'Thanks a lot for your wishes on my birthday. Thanks you for making my birthday truly memorable.'\", 'ham'), (\"'Aight\", 'ham'), (\"'How would my ip address test that considering my computer isn\\\\'t a minecraft server'\", 'ham'), (\"'I know! Grumpy old people. My mom was like you better not be lying. Then again I am always the one to play jokes...'\", 'ham'), (\"'Dont worry. I guess he\\\\'s busy.'\", 'ham'), (\"'What is the plural of the noun research?'\", 'ham'), (\"'Going for dinner.msg you after.'\", 'ham'), (\"'I\\\\'m ok wif it cos i like 2 try new things. But i scared u dun like mah. Cos u said not too loud.'\", 'ham'), (\"'GENT! We are trying to contact you. Last weekends draw shows that you won a £1000 prize GUARANTEED. Call 09064012160. Claim Code K52. Valid 12hrs only. 150ppm'\", 'spam'), (\"'Wa\", 'ham'), (\"'As I entered my cabin my PA said\", 'ham'), (\"'You are a winner U have been specially selected 2 receive £1000 or a 4* holiday (flights inc) speak to a live operator 2 claim 0871277810910p/min (18+) ‘\", 'spam'), (\"'Goodo! Yes we must speak friday - egg-potato ratio for tortilla needed! ‘\", 'ham'), (\"'Hmm...my uncle just informed me that he\\\\'s paying the school directly. So pls buy food.'\", 'ham'), (\"'PRIVATE! Your 2004 Account Statement for 07742676969 shows 786 unredeemed Bonus Points. To claim call 08719180248 Identifier Code: 45239 Expires'\", 'spam'), (\"'URGENT! Your Mobile No. was awarded £2000 Bonus Caller Prize on 5/9/03 This is our final try to contact U! Call from Landline 09064019788 BOX42WR29C\", 'spam'), (\"'here is my new address -apples&pairs&all that malarky'\", 'ham'), (\"'Todays Voda numbers ending 7548 are selected to receive a $350 award. If you have a match please call 08712300220 quoting claim code 4041 standard rates app'\", 'spam'), (\"'I am going to sao mu today. Will be done only at 12 ‘\", 'ham'), (\"'Ü predict wat time ü\\\\'ll finish buying?'\", 'ham'), (\"'Good stuff\", 'ham'), (\"'Just so that you know\", 'ham'), (\"'Are you there in room.'\", 'ham'), (\"'HEY GIRL. HOW R U? HOPE U R WELL ME AN DEL R BAK! AGAIN LONG TIME NO C! GIVE ME A CALL SUM TIME FROM LUCYxx'\", 'ham'), (\"'K..k:)how much does it cost?'\", 'ham'), (\"'I\\\\'m home.'\", 'ham'), (\"'Dear\", 'ham'), (\"'First answer my question.'\", 'ham'), (\"'Sunshine Quiz Wkly Q! Win a top Sony DVD player if u know which country the Algarve is in? Txt ansr to 82277. £1.50 SP:Tyrone'\", 'spam'), (\"'Want 2 get laid tonight? Want real Dogging locations sent direct 2 ur mob? Join the UK\\\\'s largest Dogging Network bt Txting GRAVEL to 69888! Nt. ec2a. 31p.msg@150p'\", 'spam'), (\"'I only haf msn. It\\\\'s yijue@hotmail.com'\", 'ham'), (\"'He is there. You call and meet him'\", 'ham'), (\"'No no. I will check all rooms befor activities'\", 'ham'), (\"'You\\\\'ll not rcv any more msgs from the chat svc. For FREE Hardcore services text GO to: 69988 If u get nothing u must Age Verify with yr network & try again'\", 'spam'), (\"'Got c... I lazy to type... I forgot ü in lect... I saw a pouch but like not v nice...'\", 'ham'), (\"'K\", 'ham'), (\"'Sir\", 'ham'), ('\"\\'A swt thought: \"\"Nver get tired of doing little things 4 lovable persons..\"\" Coz..somtimes those little things occupy d biggest part in their Hearts.. Gud ni8\\'\"', 'ham'), (\"'I know you are. Can you pls open the back?'\", 'ham'), (\"'Yes see ya not on the dot'\", 'ham'), (\"'Whats the staff name who is taking class for us?'\", 'ham'), (\"'FreeMsg Why haven\\\\'t you replied to my text? I\\\\'m Randy\", 'spam'), (\"'Ummma.will call after check in.our life will begin from qatar so pls pray very hard.'\", 'ham'), (\"'K..i deleted my contact that why?'\", 'ham'), (\"'Sindu got job in birla soft ..'\", 'ham'), (\"'The wine is flowing and i\\\\'m i have nevering..'\", 'ham'), (\"'Yup i thk cine is better cos no need 2 go down 2 plaza mah.'\", 'ham'), (\"'Ok... Ur typical reply...'\", 'ham'), (\"'As per your request \\\\'Melle Melle (Oru Minnaminunginte Nurungu Vettam)\\\\' has been set as your callertune for all Callers. Press *9 to copy your friends Callertune'\", 'ham'), (\"'You are everywhere dirt\", 'ham'), (\"'Aaooooright are you at work?'\", 'ham'), (\"'I\\\\'m leaving my house now...'\", 'ham'), (\"'Hello\", 'ham'), (\"'Customer service annoncement. You have a New Years delivery waiting for you. Please call 07046744435 now to arrange delivery'\", 'spam'), (\"'You are a winner U have been specially selected 2 receive £1000 cash or a 4* holiday (flights inc) speak to a live operator 2 claim 0871277810810'\", 'spam'), (\"'Keep yourself safe for me because I need you and I miss you already and I envy everyone that see\\\\'s you in real life'\", 'ham'), (\"'New car and house for my parents.:)i have only new job in hand:)'\", 'ham'), (\"'I\\\\'m so in love with you. I\\\\'m excited each day i spend with you. You make me so happy.'\", 'ham'), (\"'-PLS STOP bootydelious (32/F) is inviting you to be her friend. Reply YES-434 or NO-434 See her: www.SMS.ac/u/bootydelious STOP? Send STOP FRND to 62468'\", 'spam'), (\"'BangBabes Ur order is on the way. U SHOULD receive a Service Msg 2 download UR content. If U do not\", 'spam'), (\"'I place all ur points on e cultures module already.'\", 'ham'), (\"'URGENT! We are trying to contact you. Last weekends draw shows that you have won a £900 prize GUARANTEED. Call 09061701939. Claim code S89. Valid 12hrs only'\", 'spam'), (\"'Hi frnd\", 'ham'), (\"'Great escape. I fancy the bridge but needs her lager. See you tomo ‘\", 'ham'), (\"'Yes :)it completely in out of form:)clark also utter waste.'\", 'ham'), (\"'Sir\", 'ham'), (\"'Hmmm.. Thk sure got time to hop ard... Ya\", 'ham'), (\"'What time you coming down later? ‘\", 'ham'), (\"'Bloody hell\", 'ham'), (\"'Well\", 'ham'), (\"'Let me know when you\\\\'ve got the money so carlos can make the call'\", 'ham'), (\"'U still going to the mall?'\", 'ham'), (\"'Turns out my friends are staying for the whole show and won\\\\'t be back til ~ &lt;#&gt; \", 'ham'), (\"'Text her. If she doesnt reply let me know so i can have her log in'\", 'ham'), (\"'Hi! You just spoke to MANEESHA V. We\\\\'d like to know if you were satisfied with the experience. Reply Toll Free with Yes or No.'\", 'ham'), (\"'You lifted my hopes with the offer of money. I am in need. Especially when the end of the month approaches and it hurts my studying. Anyways have a gr8 weekend'\", 'ham'), (\"'Lol no. U can trust me.'\", 'ham'), (\"'ok. I am a gentleman and will treat you with dignity and respect.'\", 'ham'), (\"'He will\", 'ham'), (\"'Going on nothing great.bye'\", 'ham'), (\"'Hello handsome ! Are you finding that job ? Not being lazy ? Working towards getting back that net for mummy ? Where\\\\'s my boytoy now ? Does he miss me ?'\", 'ham'), (\"'Haha awesome\", 'ham'), (\"'Please call our customer service representative on FREEPHONE 0808 145 4742 between 9am-11pm as you have WON a guaranteed £1000 cash or £5000 prize!'\", 'spam'), (\"'Have you got Xmas radio times. If not i will get it now'\", 'ham'), (\"'I jus reached home. I go bathe first. But my sis using net tell u when she finishes k...'\", 'ham'), (\"'Are you unique enough? Find out from 30th August. www.areyouunique.co.uk'\", 'spam'), (\"'I\\\\'m sorry. I\\\\'ve joined the league of people that dont keep in touch. You mean a great deal to me. You have been a friend at all times even at great personal cost. Do have a great week.|'\", 'ham'), (\"'Hi :)finally i completed the course:)'\", 'ham'), (\"'It will stop on itself. I however suggest she stays with someone that will be able to give ors for every stool.'\", 'ham'), (\"'How are you doing? Hope you\\\\'ve settled in for the new school year. Just wishin you a gr8 day'\", 'ham'), (\"'Gud mrng dear hav a nice day'\", 'ham'), (\"'Did u got that persons story'\", 'ham'), (\"'is your hamster dead? Hey so tmr i meet you at 1pm orchard mrt? ‘\", 'ham'), (\"'Hi its Kate how is your evening? I hope i can see you tomorrow for a bit but i have to bloody babyjontet! Txt back if u can. :) xxx'\", 'ham')]\n"
     ]
    }
   ],
   "source": [
    "#Prepare the data for tect blob\n",
    "new_data = []\n",
    "for record in data_dump:\n",
    "    new_record = []\n",
    "    columns = record.split(',')\n",
    "    new_record.append(columns[0])\n",
    "    new_record.append(columns[1].rstrip('\\n'))\n",
    "    new_tuple_record = tuple(new_record)\n",
    "    new_data.append(new_tuple_record)\n",
    "print(new_data)"
   ]
  },
  {
   "cell_type": "code",
   "execution_count": 29,
   "metadata": {},
   "outputs": [],
   "source": [
    "#Strip the records and create a word list for each tweet\n",
    "word_list = []\n",
    "for record in (data):\n",
    "    #print(record[0])\n",
    "    words = []\n",
    "    tokens = record[1].split()\n",
    "    #print(tokens)\n",
    "    for token in tokens:\n",
    "        words.append(token.lower())\n",
    "    word_list.append(words)"
   ]
  },
  {
   "cell_type": "code",
   "execution_count": 30,
   "metadata": {},
   "outputs": [
    {
     "data": {
      "text/plain": [
       "['ham',\n",
       " 'ham',\n",
       " 'spam',\n",
       " 'ham',\n",
       " 'ham',\n",
       " 'spam',\n",
       " 'ham',\n",
       " 'ham',\n",
       " 'spam',\n",
       " 'spam',\n",
       " 'ham',\n",
       " 'spam',\n",
       " 'spam',\n",
       " 'ham',\n",
       " 'ham',\n",
       " 'spam',\n",
       " 'ham',\n",
       " 'ham',\n",
       " 'ham',\n",
       " 'spam',\n",
       " 'ham',\n",
       " 'ham',\n",
       " 'ham',\n",
       " 'ham',\n",
       " 'ham',\n",
       " 'ham',\n",
       " 'ham',\n",
       " 'ham',\n",
       " 'ham',\n",
       " 'ham',\n",
       " 'ham',\n",
       " 'ham',\n",
       " 'ham',\n",
       " 'ham',\n",
       " 'spam',\n",
       " 'ham',\n",
       " 'ham',\n",
       " 'ham',\n",
       " 'ham',\n",
       " 'ham',\n",
       " 'ham',\n",
       " 'ham',\n",
       " 'spam',\n",
       " 'ham',\n",
       " 'ham',\n",
       " 'ham',\n",
       " 'ham',\n",
       " 'ham',\n",
       " 'ham',\n",
       " 'ham',\n",
       " 'ham',\n",
       " 'ham',\n",
       " 'ham',\n",
       " 'ham',\n",
       " 'spam',\n",
       " 'ham',\n",
       " 'spam',\n",
       " 'ham',\n",
       " 'ham',\n",
       " 'ham',\n",
       " 'ham',\n",
       " 'ham',\n",
       " 'ham',\n",
       " 'ham',\n",
       " 'ham',\n",
       " 'spam',\n",
       " 'ham',\n",
       " 'spam',\n",
       " 'spam',\n",
       " 'ham',\n",
       " 'ham',\n",
       " 'ham',\n",
       " 'ham',\n",
       " 'ham',\n",
       " 'ham',\n",
       " 'ham',\n",
       " 'ham',\n",
       " 'ham',\n",
       " 'ham',\n",
       " 'ham',\n",
       " 'ham',\n",
       " 'ham',\n",
       " 'ham',\n",
       " 'ham',\n",
       " 'ham',\n",
       " 'ham',\n",
       " 'ham',\n",
       " 'ham',\n",
       " 'ham',\n",
       " 'ham',\n",
       " 'ham',\n",
       " 'ham',\n",
       " 'ham',\n",
       " 'spam',\n",
       " 'ham',\n",
       " 'spam',\n",
       " 'ham',\n",
       " 'ham',\n",
       " 'ham',\n",
       " 'ham',\n",
       " 'ham',\n",
       " 'ham',\n",
       " 'ham',\n",
       " 'ham',\n",
       " 'ham',\n",
       " 'ham',\n",
       " 'ham',\n",
       " 'ham',\n",
       " 'ham',\n",
       " 'ham',\n",
       " 'ham',\n",
       " 'ham',\n",
       " 'ham',\n",
       " 'ham',\n",
       " 'spam',\n",
       " 'ham',\n",
       " 'ham',\n",
       " 'spam',\n",
       " 'ham',\n",
       " 'ham',\n",
       " 'spam',\n",
       " 'spam',\n",
       " 'ham',\n",
       " 'spam',\n",
       " 'ham',\n",
       " 'ham',\n",
       " 'ham',\n",
       " 'ham',\n",
       " 'ham',\n",
       " 'ham',\n",
       " 'ham',\n",
       " 'ham',\n",
       " 'ham',\n",
       " 'ham',\n",
       " 'spam',\n",
       " 'spam',\n",
       " 'ham',\n",
       " 'ham',\n",
       " 'ham',\n",
       " 'spam',\n",
       " 'ham',\n",
       " 'ham',\n",
       " 'ham',\n",
       " 'ham',\n",
       " 'ham',\n",
       " 'ham',\n",
       " 'ham',\n",
       " 'spam',\n",
       " 'ham',\n",
       " 'ham',\n",
       " 'ham',\n",
       " 'ham',\n",
       " 'ham',\n",
       " 'ham',\n",
       " 'ham',\n",
       " 'ham',\n",
       " 'ham',\n",
       " 'ham',\n",
       " 'ham',\n",
       " 'spam',\n",
       " 'spam',\n",
       " 'ham',\n",
       " 'ham',\n",
       " 'ham',\n",
       " 'spam',\n",
       " 'spam',\n",
       " 'ham',\n",
       " 'spam',\n",
       " 'ham',\n",
       " 'ham',\n",
       " 'ham',\n",
       " 'ham',\n",
       " 'ham',\n",
       " 'ham',\n",
       " 'ham',\n",
       " 'ham',\n",
       " 'ham',\n",
       " 'ham',\n",
       " 'ham',\n",
       " 'ham',\n",
       " 'ham',\n",
       " 'ham',\n",
       " 'ham',\n",
       " 'ham',\n",
       " 'ham',\n",
       " 'ham',\n",
       " 'ham',\n",
       " 'ham',\n",
       " 'spam',\n",
       " 'ham',\n",
       " 'ham',\n",
       " 'spam',\n",
       " 'ham',\n",
       " 'ham',\n",
       " 'ham',\n",
       " 'ham',\n",
       " 'ham',\n",
       " 'ham',\n",
       " 'ham',\n",
       " 'ham']"
      ]
     },
     "execution_count": 30,
     "metadata": {},
     "output_type": "execute_result"
    }
   ],
   "source": [
    "#Create a single string from data\n",
    "words = []\n",
    "for record in word_list:\n",
    "    for word in record:\n",
    "        words.append(word)\n",
    "#Join all the words\n",
    "str_data = ' '.join(words)\n",
    "words"
   ]
  },
  {
   "cell_type": "code",
   "execution_count": 31,
   "metadata": {},
   "outputs": [
    {
     "data": {
      "image/png": "[encoded data removed]",
      "text/plain": [
       "<matplotlib.figure.Figure at 0x289ee743550>"
      ]
     },
     "metadata": {},
     "output_type": "display_data"
    }
   ],
   "source": [
    "#Visualize the world cloud\n",
    "from wordcloud import WordCloud, STOPWORDS\n",
    "import matplotlib.pyplot as plt\n",
    "%matplotlib inline\n",
    "\n",
    "#Concatenate all the words in data to form a string\n",
    "wordcloud = WordCloud(    stopwords=STOPWORDS,\n",
    "                          background_color='white',\n",
    "                          width=1200,\n",
    "                          height=1000\n",
    "                         ).generate(str_data)\n",
    "\n",
    "\n",
    "plt.imshow(wordcloud)\n",
    "plt.axis('off')\n",
    "plt.show()"
   ]
  },
  {
   "cell_type": "code",
   "execution_count": 32,
   "metadata": {},
   "outputs": [],
   "source": [
    "from nltk.tokenize import word_tokenize"
   ]
  },
  {
   "cell_type": "code",
   "execution_count": 33,
   "metadata": {},
   "outputs": [],
   "source": [
    "words = word_tokenize(str_data)"
   ]
  },
  {
   "cell_type": "code",
   "execution_count": 34,
   "metadata": {},
   "outputs": [],
   "source": [
    "#Simple text preprocessing - to lower case and removing all non alphabets\n",
    "from nltk.corpus import stopwords\n",
    "tokens = [w for w in word_tokenize(str_data.lower()) if w.isalpha()]"
   ]
  },
  {
   "cell_type": "code",
   "execution_count": 35,
   "metadata": {},
   "outputs": [
    {
     "name": "stdout",
     "output_type": "stream",
     "text": [
      "['ham', 'ham', 'spam', 'ham', 'ham', 'spam', 'ham', 'ham', 'spam', 'spam', 'ham', 'spam', 'spam', 'ham', 'ham', 'spam', 'ham', 'ham', 'ham', 'spam', 'ham', 'ham', 'ham', 'ham', 'ham', 'ham', 'ham', 'ham', 'ham', 'ham', 'ham', 'ham', 'ham', 'ham', 'spam', 'ham', 'ham', 'ham', 'ham', 'ham', 'ham', 'ham', 'spam', 'ham', 'ham', 'ham', 'ham', 'ham', 'ham', 'ham', 'ham', 'ham', 'ham', 'ham', 'spam', 'ham', 'spam', 'ham', 'ham', 'ham', 'ham', 'ham', 'ham', 'ham', 'ham', 'spam', 'ham', 'spam', 'spam', 'ham', 'ham', 'ham', 'ham', 'ham', 'ham', 'ham', 'ham', 'ham', 'ham', 'ham', 'ham', 'ham', 'ham', 'ham', 'ham', 'ham', 'ham', 'ham', 'ham', 'ham', 'ham', 'ham', 'ham', 'spam', 'ham', 'spam', 'ham', 'ham', 'ham', 'ham', 'ham', 'ham', 'ham', 'ham', 'ham', 'ham', 'ham', 'ham', 'ham', 'ham', 'ham', 'ham', 'ham', 'ham', 'spam', 'ham', 'ham', 'spam', 'ham', 'ham', 'spam', 'spam', 'ham', 'spam', 'ham', 'ham', 'ham', 'ham', 'ham', 'ham', 'ham', 'ham', 'ham', 'ham', 'spam', 'spam', 'ham', 'ham', 'ham', 'spam', 'ham', 'ham', 'ham', 'ham', 'ham', 'ham', 'ham', 'spam', 'ham', 'ham', 'ham', 'ham', 'ham', 'ham', 'ham', 'ham', 'ham', 'ham', 'ham', 'spam', 'spam', 'ham', 'ham', 'ham', 'spam', 'spam', 'ham', 'spam', 'ham', 'ham', 'ham', 'ham', 'ham', 'ham', 'ham', 'ham', 'ham', 'ham', 'ham', 'ham', 'ham', 'ham', 'ham', 'ham', 'ham', 'ham', 'ham', 'ham', 'spam', 'ham', 'ham', 'spam', 'ham', 'ham', 'ham', 'ham', 'ham', 'ham', 'ham', 'ham']\n"
     ]
    }
   ],
   "source": [
    "#To remove stopwords from stop words list which is built in nltk library.\n",
    "no_stops = [ t for t in tokens if t not in stopwords.words('english')]\n",
    "print(no_stops)"
   ]
  },
  {
   "cell_type": "code",
   "execution_count": 36,
   "metadata": {},
   "outputs": [],
   "source": [
    "#finding the word lengths in the text\n",
    "word_lengths = [len(w) for w in no_stops]"
   ]
  },
  {
   "cell_type": "code",
   "execution_count": 37,
   "metadata": {},
   "outputs": [
    {
     "data": {
      "image/png": "[encoded data removed]",
      "text/plain": [
       "<matplotlib.figure.Figure at 0x289f50557b8>"
      ]
     },
     "metadata": {},
     "output_type": "display_data"
    }
   ],
   "source": [
    "plt.hist(word_lengths)\n",
    "plt.show()"
   ]
  },
  {
   "cell_type": "code",
   "execution_count": 38,
   "metadata": {},
   "outputs": [],
   "source": [
    "def wordfreq (lst):\n",
    "        word_freq={}\n",
    "        for tok in no_stops:\n",
    "            if tok.lower() in word_freq:\n",
    "                word_freq [tok.lower()]+=1\n",
    "        else:\n",
    "            word_freq [tok.lower()]=1\n",
    "            return word_freq"
   ]
  },
  {
   "cell_type": "code",
   "execution_count": 39,
   "metadata": {},
   "outputs": [],
   "source": [
    "new_tokens = wordfreq(tokens)"
   ]
  },
  {
   "cell_type": "code",
   "execution_count": 40,
   "metadata": {},
   "outputs": [
    {
     "name": "stdout",
     "output_type": "stream",
     "text": [
      "[('ham', 1)]\n"
     ]
    }
   ],
   "source": [
    "import operator\n",
    "sorted_d = sorted(new_tokens.items(), key=operator.itemgetter(1),reverse=True)\n",
    "#print('Dictionary in descending order by value : ',sorted_d)\n",
    "print(sorted_d[:200])"
   ]
  },
  {
   "cell_type": "code",
   "execution_count": 41,
   "metadata": {},
   "outputs": [
    {
     "name": "stdout",
     "output_type": "stream",
     "text": [
      "<FreqDist with 2 samples and 200 outcomes>\n",
      "[('ham', 167), ('spam', 33)]\n"
     ]
    },
    {
     "data": {
      "image/png": "[encoded data removed]",
      "text/plain": [
       "<matplotlib.figure.Figure at 0x289f1d07438>"
      ]
     },
     "metadata": {},
     "output_type": "display_data"
    }
   ],
   "source": [
    "#Visualize word frequency\n",
    "import nltk\n",
    "import operator\n",
    "freq_words = nltk.FreqDist(words)\n",
    "print(freq_words)\n",
    "sorted_d = sorted(freq_words.items(), key=operator.itemgetter(1),reverse=True)\n",
    "print(sorted_d[:25])\n",
    "freq_words.plot(25, cumulative=False)"
   ]
  },
  {
   "cell_type": "code",
   "execution_count": 43,
   "metadata": {},
   "outputs": [
    {
     "data": {
      "text/plain": [
       "0.965"
      ]
     },
     "execution_count": 43,
     "metadata": {},
     "output_type": "execute_result"
    }
   ],
   "source": [
    "from textblob.classifiers import NaiveBayesClassifier\n",
    "c2 = NaiveBayesClassifier(new_data)\n",
    "c2.accuracy(new_data)"
   ]
  },
  {
   "cell_type": "code",
   "execution_count": 48,
   "metadata": {},
   "outputs": [
    {
     "name": "stdout",
     "output_type": "stream",
     "text": [
      "Most Informative Features\n",
      "           contains(our) = True             spam : ham    =     18.1 : 1.0\n",
      "        contains(Please) = True             spam : ham    =     18.1 : 1.0\n",
      "          contains(Call) = True             spam : ham    =     14.8 : 1.0\n",
      "            contains(or) = True             spam : ham    =     12.0 : 1.0\n",
      "            contains(We) = True             spam : ham    =     11.5 : 1.0\n",
      "       contains(contact) = True             spam : ham    =     11.5 : 1.0\n",
      "          contains(text) = True             spam : ham    =     11.5 : 1.0\n",
      "          contains(from) = True             spam : ham    =     11.5 : 1.0\n",
      "          contains(cash) = True             spam : ham    =     11.5 : 1.0\n",
      "          contains(Your) = True             spam : ham    =     11.5 : 1.0\n",
      "            contains(If) = True             spam : ham    =      8.9 : 1.0\n",
      "          contains(free) = True             spam : ham    =      8.2 : 1.0\n",
      "             contains(C) = True             spam : ham    =      8.2 : 1.0\n",
      "        contains(trying) = True             spam : ham    =      8.2 : 1.0\n",
      "             contains(1) = True             spam : ham    =      8.2 : 1.0\n",
      "             contains(4) = True             spam : ham    =      8.2 : 1.0\n",
      "           contains(New) = True             spam : ham    =      8.2 : 1.0\n",
      "           contains(The) = True             spam : ham    =      8.2 : 1.0\n",
      "           contains(Txt) = True             spam : ham    =      8.2 : 1.0\n",
      "         contains(Reply) = True             spam : ham    =      8.2 : 1.0\n",
      "          contains(Free) = True             spam : ham    =      8.2 : 1.0\n",
      "          contains(more) = True             spam : ham    =      8.2 : 1.0\n",
      "       contains(waiting) = True             spam : ham    =      8.2 : 1.0\n",
      "          contains(week) = True             spam : ham    =      8.2 : 1.0\n",
      "          contains(call) = True             spam : ham    =      6.5 : 1.0\n",
      "            contains(NO) = True             spam : ham    =      4.9 : 1.0\n",
      "          contains(Find) = True             spam : ham    =      4.9 : 1.0\n",
      "          contains(This) = True             spam : ham    =      4.9 : 1.0\n",
      "          contains(play) = True             spam : ham    =      4.9 : 1.0\n",
      "          contains(dont) = True             spam : ham    =      4.9 : 1.0\n",
      "             contains(3) = True             spam : ham    =      4.9 : 1.0\n",
      "          contains(Text) = True             spam : ham    =      4.9 : 1.0\n",
      "           contains(Hey) = True             spam : ham    =      4.9 : 1.0\n",
      "          contains(send) = True             spam : ham    =      4.9 : 1.0\n",
      "          contains(Send) = True             spam : ham    =      4.9 : 1.0\n",
      "             contains(R) = True             spam : ham    =      4.9 : 1.0\n",
      "           contains(See) = True             spam : ham    =      4.9 : 1.0\n",
      "        contains(Thanks) = True             spam : ham    =      4.9 : 1.0\n",
      "          contains(must) = True             spam : ham    =      4.9 : 1.0\n",
      "      contains(question) = True             spam : ham    =      4.9 : 1.0\n",
      "           contains(try) = True             spam : ham    =      4.9 : 1.0\n",
      "        contains(enough) = True             spam : ham    =      4.9 : 1.0\n",
      "             contains(V) = True             spam : ham    =      4.9 : 1.0\n",
      "           contains(any) = True             spam : ham    =      4.9 : 1.0\n",
      "        contains(months) = True             spam : ham    =      4.9 : 1.0\n",
      "         contains(reply) = True             spam : ham    =      4.9 : 1.0\n",
      "      contains(haven\\'t) = True             spam : ham    =      4.9 : 1.0\n",
      "          contains(year) = True             spam : ham    =      4.9 : 1.0\n",
      "         contains(speak) = True             spam : ham    =      4.9 : 1.0\n",
      "        contains(friend) = True             spam : ham    =      4.9 : 1.0\n",
      "            contains(by) = True             spam : ham    =      4.9 : 1.0\n",
      "            contains(Ur) = True             spam : ham    =      4.9 : 1.0\n",
      "            contains(12) = True             spam : ham    =      4.9 : 1.0\n",
      "             contains(2) = True             spam : ham    =      4.9 : 1.0\n",
      "             contains(I) = True              ham : spam   =      4.2 : 1.0\n",
      "          contains(been) = True             spam : ham    =      3.4 : 1.0\n",
      "             contains(a) = True             spam : ham    =      3.3 : 1.0\n",
      "            contains(my) = True              ham : spam   =      3.3 : 1.0\n",
      "          contains(have) = True             spam : ham    =      3.2 : 1.0\n",
      "            contains(re) = True             spam : ham    =      3.0 : 1.0\n",
      "          contains(miss) = True             spam : ham    =      3.0 : 1.0\n",
      "         contains(again) = True             spam : ham    =      3.0 : 1.0\n",
      "      contains(tomorrow) = True             spam : ham    =      3.0 : 1.0\n",
      "         contains(stuff) = True             spam : ham    =      3.0 : 1.0\n",
      "          contains(real) = True             spam : ham    =      3.0 : 1.0\n",
      "       contains(nothing) = True             spam : ham    =      3.0 : 1.0\n",
      "            contains(It) = True             spam : ham    =      3.0 : 1.0\n",
      "           contains(For) = True             spam : ham    =      3.0 : 1.0\n",
      "            contains(to) = True             spam : ham    =      2.9 : 1.0\n",
      "           contains(are) = True             spam : ham    =      2.9 : 1.0\n",
      "           contains(get) = True             spam : ham    =      2.7 : 1.0\n",
      "            contains(ur) = True             spam : ham    =      2.7 : 1.0\n",
      "            contains(as) = True             spam : ham    =      2.7 : 1.0\n",
      "            contains(As) = True             spam : ham    =      2.7 : 1.0\n",
      "          contains(only) = True             spam : ham    =      2.7 : 1.0\n",
      "           contains(now) = True             spam : ham    =      2.6 : 1.0\n",
      "           contains(You) = True             spam : ham    =      2.6 : 1.0\n",
      "             contains(U) = True             spam : ham    =      2.6 : 1.0\n",
      "            contains(to) = False             ham : spam   =      2.3 : 1.0\n",
      "            contains(is) = True             spam : ham    =      2.2 : 1.0\n",
      "       contains(tonight) = True             spam : ham    =      2.1 : 1.0\n",
      "         contains(about) = True             spam : ham    =      2.1 : 1.0\n",
      "           contains(her) = True             spam : ham    =      2.1 : 1.0\n",
      "             contains(d) = True             spam : ham    =      2.1 : 1.0\n",
      "           contains(was) = True             spam : ham    =      2.1 : 1.0\n",
      "           contains(Are) = True             spam : ham    =      2.1 : 1.0\n",
      "            contains(No) = True             spam : ham    =      2.1 : 1.0\n",
      "            contains(be) = True             spam : ham    =      2.0 : 1.0\n",
      "            contains(on) = True             spam : ham    =      2.0 : 1.0\n",
      "           contains(all) = True              ham : spam   =      2.0 : 1.0\n",
      "          contains(that) = True              ham : spam   =      1.8 : 1.0\n",
      "            contains(of) = True              ham : spam   =      1.8 : 1.0\n",
      "          contains(your) = True             spam : ham    =      1.8 : 1.0\n",
      "           contains(the) = True             spam : ham    =      1.7 : 1.0\n",
      "           contains(you) = True             spam : ham    =      1.7 : 1.0\n",
      "             contains(a) = False             ham : spam   =      1.7 : 1.0\n",
      "             contains(v) = True             spam : ham    =      1.6 : 1.0\n",
      "         contains(there) = True             spam : ham    =      1.6 : 1.0\n",
      "           contains(for) = True             spam : ham    =      1.6 : 1.0\n",
      "            contains(do) = True             spam : ham    =      1.6 : 1.0\n",
      "            contains(ok) = True             spam : ham    =      1.6 : 1.0\n",
      "           contains(Did) = True             spam : ham    =      1.6 : 1.0\n",
      "           contains(way) = True             spam : ham    =      1.6 : 1.0\n",
      "            contains(no) = True             spam : ham    =      1.6 : 1.0\n",
      "           contains(new) = True             spam : ham    =      1.6 : 1.0\n",
      "          contains(with) = True             spam : ham    =      1.6 : 1.0\n",
      "          contains(like) = True              ham : spam   =      1.6 : 1.0\n",
      "          contains(will) = True              ham : spam   =      1.6 : 1.0\n",
      "            contains(it) = True              ham : spam   =      1.4 : 1.0\n",
      "             contains(I) = False            spam : ham    =      1.3 : 1.0\n",
      "         contains(still) = True             spam : ham    =      1.3 : 1.0\n",
      "           contains(out) = True             spam : ham    =      1.3 : 1.0\n",
      "            contains(if) = True             spam : ham    =      1.3 : 1.0\n",
      "            contains(or) = False             ham : spam   =      1.3 : 1.0\n",
      "           contains(you) = False             ham : spam   =      1.3 : 1.0\n",
      "          contains(call) = False             ham : spam   =      1.3 : 1.0\n",
      "             contains(‘) = True              ham : spam   =      1.3 : 1.0\n",
      "           contains(not) = True             spam : ham    =      1.3 : 1.0\n",
      "          contains(have) = False             ham : spam   =      1.3 : 1.0\n",
      "         contains(claim) = False             ham : spam   =      1.2 : 1.0\n",
      "       contains(receive) = False             ham : spam   =      1.2 : 1.0\n",
      "         contains(£1000) = False             ham : spam   =      1.2 : 1.0\n",
      "         contains(prize) = False             ham : spam   =      1.2 : 1.0\n",
      "             contains(2) = False             ham : spam   =      1.2 : 1.0\n",
      "            contains(in) = True              ham : spam   =      1.2 : 1.0\n",
      "           contains(our) = False             ham : spam   =      1.2 : 1.0\n",
      "        contains(Please) = False             ham : spam   =      1.2 : 1.0\n",
      "           contains(the) = False             ham : spam   =      1.2 : 1.0\n",
      "             contains(i) = False            spam : ham    =      1.2 : 1.0\n",
      "      contains(customer) = False             ham : spam   =      1.1 : 1.0\n",
      "      contains(selected) = False             ham : spam   =      1.1 : 1.0\n",
      "          contains(know) = True              ham : spam   =      1.1 : 1.0\n",
      "          contains(Call) = False             ham : spam   =      1.1 : 1.0\n",
      "            contains(up) = True             spam : ham    =      1.1 : 1.0\n",
      "          contains(back) = True             spam : ham    =      1.1 : 1.0\n",
      "            contains(If) = False             ham : spam   =      1.1 : 1.0\n",
      "            contains(is) = False             ham : spam   =      1.1 : 1.0\n",
      "           contains(are) = False             ham : spam   =      1.1 : 1.0\n",
      "            contains(my) = False            spam : ham    =      1.1 : 1.0\n",
      "           contains(You) = False             ham : spam   =      1.1 : 1.0\n",
      "             contains(U) = False             ham : spam   =      1.1 : 1.0\n",
      "          contains(FREE) = False             ham : spam   =      1.1 : 1.0\n",
      "        contains(mobile) = False             ham : spam   =      1.1 : 1.0\n",
      "          contains(code) = False             ham : spam   =      1.1 : 1.0\n",
      "         contains(Claim) = False             ham : spam   =      1.1 : 1.0\n",
      "         contains(shows) = False             ham : spam   =      1.1 : 1.0\n",
      "       contains(service) = False             ham : spam   =      1.1 : 1.0\n",
      "           contains(won) = False             ham : spam   =      1.1 : 1.0\n",
      "         contains(Valid) = False             ham : spam   =      1.1 : 1.0\n",
      "            contains(To) = False             ham : spam   =      1.1 : 1.0\n",
      "           contains(for) = False             ham : spam   =      1.1 : 1.0\n",
      "          contains(been) = False             ham : spam   =      1.1 : 1.0\n",
      "       contains(contact) = False             ham : spam   =      1.1 : 1.0\n",
      "          contains(text) = False             ham : spam   =      1.1 : 1.0\n",
      "          contains(from) = False             ham : spam   =      1.1 : 1.0\n",
      "          contains(cash) = False             ham : spam   =      1.1 : 1.0\n",
      "          contains(Your) = False             ham : spam   =      1.1 : 1.0\n",
      "            contains(We) = False             ham : spam   =      1.1 : 1.0\n",
      "            contains(me) = False            spam : ham    =      1.1 : 1.0\n",
      "            contains(on) = False             ham : spam   =      1.1 : 1.0\n",
      "           contains(now) = False             ham : spam   =      1.1 : 1.0\n",
      "             contains(u) = True              ham : spam   =      1.1 : 1.0\n",
      "       contains(network) = False             ham : spam   =      1.1 : 1.0\n",
      "       contains(awarded) = False             ham : spam   =      1.1 : 1.0\n",
      "           contains(WON) = False             ham : spam   =      1.1 : 1.0\n",
      "    contains(GUARANTEED) = False             ham : spam   =      1.1 : 1.0\n",
      "          contains(live) = False             ham : spam   =      1.1 : 1.0\n",
      "         contains(12hrs) = False             ham : spam   =      1.1 : 1.0\n",
      "           contains(inc) = False             ham : spam   =      1.1 : 1.0\n",
      "           contains(std) = False             ham : spam   =      1.1 : 1.0\n",
      "            contains(UK) = False             ham : spam   =      1.1 : 1.0\n",
      "         contains(final) = False             ham : spam   =      1.1 : 1.0\n",
      "contains(representative) = False             ham : spam   =      1.1 : 1.0\n",
      "       contains(flights) = False             ham : spam   =      1.1 : 1.0\n",
      "           contains(win) = False             ham : spam   =      1.1 : 1.0\n",
      "       contains(holiday) = False             ham : spam   =      1.1 : 1.0\n",
      "          contains(Last) = False             ham : spam   =      1.1 : 1.0\n",
      "        contains(winner) = False             ham : spam   =      1.1 : 1.0\n",
      "        contains(valued) = False             ham : spam   =      1.1 : 1.0\n",
      "       contains(between) = False             ham : spam   =      1.1 : 1.0\n",
      "    contains(guaranteed) = False             ham : spam   =      1.1 : 1.0\n",
      "      contains(operator) = False             ham : spam   =      1.1 : 1.0\n",
      "     contains(specially) = False             ham : spam   =      1.1 : 1.0\n",
      "        contains(Mobile) = False             ham : spam   =      1.1 : 1.0\n",
      "      contains(weekends) = False             ham : spam   =      1.1 : 1.0\n",
      "          contains(draw) = False             ham : spam   =      1.1 : 1.0\n",
      "      contains(delivery) = False             ham : spam   =      1.1 : 1.0\n",
      "         contains(£5000) = False             ham : spam   =      1.1 : 1.0\n",
      "            contains(UR) = False             ham : spam   =      1.1 : 1.0\n",
      "         contains(Bonus) = False             ham : spam   =      1.1 : 1.0\n",
      "          contains(Code) = False             ham : spam   =      1.1 : 1.0\n",
      "          contains(£900) = False             ham : spam   =      1.1 : 1.0\n",
      "          contains(only) = False             ham : spam   =      1.1 : 1.0\n",
      "          contains(that) = False            spam : ham    =      1.1 : 1.0\n",
      "             contains(1) = False             ham : spam   =      1.1 : 1.0\n",
      "          contains(free) = False             ham : spam   =      1.1 : 1.0\n",
      "           contains(Txt) = False             ham : spam   =      1.1 : 1.0\n",
      "         contains(Reply) = False             ham : spam   =      1.1 : 1.0\n",
      "          contains(Free) = False             ham : spam   =      1.1 : 1.0\n",
      "             contains(4) = False             ham : spam   =      1.1 : 1.0\n"
     ]
    }
   ],
   "source": [
    "c2.show_informative_features(200)"
   ]
  },
  {
   "cell_type": "code",
   "execution_count": null,
   "metadata": {},
   "outputs": [],
   "source": []
  }
 ],
 "metadata": {
  "kernelspec": {
   "display_name": "Python 3",
   "language": "python",
   "name": "python3"
  },
  "language_info": {
   "codemirror_mode": {
    "name": "ipython",
    "version": 3
   },
   "file_extension": ".py",
   "mimetype": "text/x-python",
   "name": "python",
   "nbconvert_exporter": "python",
   "pygments_lexer": "ipython3",
   "version": "3.6.4"
  }
 },
 "nbformat": 4,
 "nbformat_minor": 2
}
